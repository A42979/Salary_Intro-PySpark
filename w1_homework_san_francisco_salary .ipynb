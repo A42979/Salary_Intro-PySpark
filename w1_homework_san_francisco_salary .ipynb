{
  "cells": [
    {
      "cell_type": "markdown",
      "source": [
        "## 1. Nhập thư viện và dữ liệu"
      ],
      "metadata": {
        "id": "4La78FEvFhHO"
      }
    },
    {
      "cell_type": "code",
      "source": [
        "!pip install pyspark"
      ],
      "outputs": [
        {
          "output_type": "stream",
          "name": "stdout",
          "text": "Requirement already satisfied: pyspark in /usr/local/lib/python3.10/dist-packages (3.5.1)\nRequirement already satisfied: py4j==0.10.9.7 in /usr/local/lib/python3.10/dist-packages (from pyspark) (0.10.9.7)\n"
        }
      ],
      "execution_count": 36,
      "metadata": {
        "colab": {
          "base_uri": "https://localhost:8080/"
        },
        "id": "CirRQ7fh6LE6",
        "outputId": "3f4456f7-fe13-4948-b0f9-8ebcc7786ddc"
      }
    },
    {
      "cell_type": "code",
      "source": [
        "import pyspark\n",
        "from pyspark.sql import SparkSession"
      ],
      "outputs": [],
      "execution_count": null,
      "metadata": {
        "id": "El9tZt4e6c27"
      }
    },
    {
      "cell_type": "code",
      "source": [
        "spark = SparkSession.builder.appName('Salaries').getOrCreate()\n",
        "spark"
      ],
      "outputs": [
        {
          "output_type": "execute_result",
          "execution_count": 33,
          "data": {
            "text/plain": "<pyspark.sql.session.SparkSession at 0x7df996b298d0>",
            "text/html": "\n            <div>\n                <p><b>SparkSession - in-memory</b></p>\n                \n        <div>\n            <p><b>SparkContext</b></p>\n\n            <p><a href=\"http://c0252db4639d:4040\">Spark UI</a></p>\n\n            <dl>\n              <dt>Version</dt>\n                <dd><code>v3.5.1</code></dd>\n              <dt>Master</dt>\n                <dd><code>local[*]</code></dd>\n              <dt>AppName</dt>\n                <dd><code>Salaries</code></dd>\n            </dl>\n        </div>\n        \n            </div>\n        "
          },
          "metadata": {}
        }
      ],
      "execution_count": null,
      "metadata": {
        "colab": {
          "base_uri": "https://localhost:8080/",
          "height": 219
        },
        "id": "RH9_I1XF6c5r",
        "outputId": "e5c6742e-d9c2-4fc6-a20b-5a1f1573c1e0"
      }
    },
    {
      "cell_type": "code",
      "source": [
        "df=spark.read.csv('Salaries.csv',header=True, inferSchema=True)\n",
        "df.show()"
      ],
      "outputs": [
        {
          "output_type": "stream",
          "name": "stdout",
          "text": "+---+------------------+--------------------+---------+-----------+---------+--------+---------+----------------+----+-----+-------------+------+\n| Id|      EmployeeName|            JobTitle|  BasePay|OvertimePay| OtherPay|Benefits| TotalPay|TotalPayBenefits|Year|Notes|       Agency|Status|\n+---+------------------+--------------------+---------+-----------+---------+--------+---------+----------------+----+-----+-------------+------+\n|  1|    NATHANIEL FORD|GENERAL MANAGER-M...|167411.18|        0.0|400184.25|    NULL|567595.43|       567595.43|2011| NULL|San Francisco|  NULL|\n|  2|      GARY JIMENEZ|CAPTAIN III (POLI...|155966.02|  245131.88|137811.38|    NULL|538909.28|       538909.28|2011| NULL|San Francisco|  NULL|\n|  3|    ALBERT PARDINI|CAPTAIN III (POLI...|212739.13|  106088.18|  16452.6|    NULL|335279.91|       335279.91|2011| NULL|San Francisco|  NULL|\n|  4| CHRISTOPHER CHONG|WIRE ROPE CABLE M...|  77916.0|   56120.71| 198306.9|    NULL|332343.61|       332343.61|2011| NULL|San Francisco|  NULL|\n|  5|   PATRICK GARDNER|DEPUTY CHIEF OF D...| 134401.6|     9737.0|182234.59|    NULL|326373.19|       326373.19|2011| NULL|San Francisco|  NULL|\n|  6|    DAVID SULLIVAN|ASSISTANT DEPUTY ...| 118602.0|     8601.0|189082.74|    NULL|316285.74|       316285.74|2011| NULL|San Francisco|  NULL|\n|  7|         ALSON LEE|BATTALION CHIEF, ...| 92492.01|    89062.9|134426.14|    NULL|315981.05|       315981.05|2011| NULL|San Francisco|  NULL|\n|  8|     DAVID KUSHNER|DEPUTY DIRECTOR O...|256576.96|        0.0|  51322.5|    NULL|307899.46|       307899.46|2011| NULL|San Francisco|  NULL|\n|  9|    MICHAEL MORRIS|BATTALION CHIEF, ...|176932.64|   86362.68| 40132.23|    NULL|303427.55|       303427.55|2011| NULL|San Francisco|  NULL|\n| 10|JOANNE HAYES-WHITE|CHIEF OF DEPARTME...| 285262.0|        0.0| 17115.73|    NULL|302377.73|       302377.73|2011| NULL|San Francisco|  NULL|\n| 11|     ARTHUR KENNEY|ASSISTANT CHIEF O...|194999.39|   71344.88|  33149.9|    NULL|299494.17|       299494.17|2011| NULL|San Francisco|  NULL|\n| 12|  PATRICIA JACKSON|CAPTAIN III (POLI...|  99722.0|   87082.62| 110804.3|    NULL|297608.92|       297608.92|2011| NULL|San Francisco|  NULL|\n| 13| EDWARD HARRINGTON|EXECUTIVE CONTRAC...|294580.02|        0.0|      0.0|    NULL|294580.02|       294580.02|2011| NULL|San Francisco|  NULL|\n| 14|       JOHN MARTIN|   DEPARTMENT HEAD V|271329.03|        0.0| 21342.59|    NULL|292671.62|       292671.62|2011| NULL|San Francisco|  NULL|\n| 15|    DAVID FRANKLIN|BATTALION CHIEF, ...|174872.64|    74050.3| 37424.11|    NULL|286347.05|       286347.05|2011| NULL|San Francisco|  NULL|\n| 16|   RICHARD CORRIEA|COMMANDER III, (P...|198778.01|    73478.2| 13957.65|    NULL|286213.86|       286213.86|2011| NULL|San Francisco|  NULL|\n| 17|          AMY HART|   DEPARTMENT HEAD V|268604.57|        0.0| 16115.86|    NULL|284720.43|       284720.43|2011| NULL|San Francisco|  NULL|\n| 18|    SEBASTIAN WONG|CAPTAIN, EMERGENC...|140546.87|  119397.26| 18625.08|    NULL|278569.21|       278569.21|2011| NULL|San Francisco|  NULL|\n| 19|        MARTY ROSS|BATTALION CHIEF, ...|168692.63|   69626.12| 38115.47|    NULL|276434.22|       276434.22|2011| NULL|San Francisco|  NULL|\n| 20|     ELLEN MOFFATT|ASSISTANT MEDICAL...|257510.59|     880.16|  16159.5|    NULL|274550.25|       274550.25|2011| NULL|San Francisco|  NULL|\n+---+------------------+--------------------+---------+-----------+---------+--------+---------+----------------+----+-----+-------------+------+\nonly showing top 20 rows\n\n"
        }
      ],
      "execution_count": 48,
      "metadata": {
        "colab": {
          "base_uri": "https://localhost:8080/"
        },
        "id": "z04YkOwF5boT",
        "outputId": "2ad81c49-ae2c-4d00-9e14-397b5c0173dd"
      }
    },
    {
      "cell_type": "code",
      "source": [
        "df.drop('Notes','Status').show()"
      ],
      "outputs": [
        {
          "output_type": "stream",
          "name": "stdout",
          "text": "+---+------------------+--------------------+---------+-----------+---------+--------+---------+----------------+----+-------------+\n| Id|      EmployeeName|            JobTitle|  BasePay|OvertimePay| OtherPay|Benefits| TotalPay|TotalPayBenefits|Year|       Agency|\n+---+------------------+--------------------+---------+-----------+---------+--------+---------+----------------+----+-------------+\n|  1|    NATHANIEL FORD|GENERAL MANAGER-M...|167411.18|        0.0|400184.25|    NULL|567595.43|       567595.43|2011|San Francisco|\n|  2|      GARY JIMENEZ|CAPTAIN III (POLI...|155966.02|  245131.88|137811.38|    NULL|538909.28|       538909.28|2011|San Francisco|\n|  3|    ALBERT PARDINI|CAPTAIN III (POLI...|212739.13|  106088.18|  16452.6|    NULL|335279.91|       335279.91|2011|San Francisco|\n|  4| CHRISTOPHER CHONG|WIRE ROPE CABLE M...|  77916.0|   56120.71| 198306.9|    NULL|332343.61|       332343.61|2011|San Francisco|\n|  5|   PATRICK GARDNER|DEPUTY CHIEF OF D...| 134401.6|     9737.0|182234.59|    NULL|326373.19|       326373.19|2011|San Francisco|\n|  6|    DAVID SULLIVAN|ASSISTANT DEPUTY ...| 118602.0|     8601.0|189082.74|    NULL|316285.74|       316285.74|2011|San Francisco|\n|  7|         ALSON LEE|BATTALION CHIEF, ...| 92492.01|    89062.9|134426.14|    NULL|315981.05|       315981.05|2011|San Francisco|\n|  8|     DAVID KUSHNER|DEPUTY DIRECTOR O...|256576.96|        0.0|  51322.5|    NULL|307899.46|       307899.46|2011|San Francisco|\n|  9|    MICHAEL MORRIS|BATTALION CHIEF, ...|176932.64|   86362.68| 40132.23|    NULL|303427.55|       303427.55|2011|San Francisco|\n| 10|JOANNE HAYES-WHITE|CHIEF OF DEPARTME...| 285262.0|        0.0| 17115.73|    NULL|302377.73|       302377.73|2011|San Francisco|\n| 11|     ARTHUR KENNEY|ASSISTANT CHIEF O...|194999.39|   71344.88|  33149.9|    NULL|299494.17|       299494.17|2011|San Francisco|\n| 12|  PATRICIA JACKSON|CAPTAIN III (POLI...|  99722.0|   87082.62| 110804.3|    NULL|297608.92|       297608.92|2011|San Francisco|\n| 13| EDWARD HARRINGTON|EXECUTIVE CONTRAC...|294580.02|        0.0|      0.0|    NULL|294580.02|       294580.02|2011|San Francisco|\n| 14|       JOHN MARTIN|   DEPARTMENT HEAD V|271329.03|        0.0| 21342.59|    NULL|292671.62|       292671.62|2011|San Francisco|\n| 15|    DAVID FRANKLIN|BATTALION CHIEF, ...|174872.64|    74050.3| 37424.11|    NULL|286347.05|       286347.05|2011|San Francisco|\n| 16|   RICHARD CORRIEA|COMMANDER III, (P...|198778.01|    73478.2| 13957.65|    NULL|286213.86|       286213.86|2011|San Francisco|\n| 17|          AMY HART|   DEPARTMENT HEAD V|268604.57|        0.0| 16115.86|    NULL|284720.43|       284720.43|2011|San Francisco|\n| 18|    SEBASTIAN WONG|CAPTAIN, EMERGENC...|140546.87|  119397.26| 18625.08|    NULL|278569.21|       278569.21|2011|San Francisco|\n| 19|        MARTY ROSS|BATTALION CHIEF, ...|168692.63|   69626.12| 38115.47|    NULL|276434.22|       276434.22|2011|San Francisco|\n| 20|     ELLEN MOFFATT|ASSISTANT MEDICAL...|257510.59|     880.16|  16159.5|    NULL|274550.25|       274550.25|2011|San Francisco|\n+---+------------------+--------------------+---------+-----------+---------+--------+---------+----------------+----+-------------+\nonly showing top 20 rows\n\n"
        }
      ],
      "execution_count": 53,
      "metadata": {
        "colab": {
          "base_uri": "https://localhost:8080/"
        },
        "id": "VCUKo7rU7CEU",
        "outputId": "259e7638-e26a-4ba5-fa7f-48a37769b4af"
      }
    },
    {
      "cell_type": "markdown",
      "source": [
        "\n",
        "Lưu ý: Bỏ 2 cột Notes và Status"
      ],
      "metadata": {
        "id": "w_DFJ4PfsFHi"
      }
    },
    {
      "cell_type": "markdown",
      "source": [
        "## 2. In 5 dòng đầu tiên của tập dữ liệu"
      ],
      "metadata": {
        "id": "AKjZqnB2c0RS"
      }
    },
    {
      "cell_type": "code",
      "source": [
        "df.show(5)"
      ],
      "outputs": [
        {
          "output_type": "stream",
          "name": "stdout",
          "text": "+---+-----------------+--------------------+---------+-----------+---------+--------+---------+----------------+----+-----+-------------+------+\n| Id|     EmployeeName|            JobTitle|  BasePay|OvertimePay| OtherPay|Benefits| TotalPay|TotalPayBenefits|Year|Notes|       Agency|Status|\n+---+-----------------+--------------------+---------+-----------+---------+--------+---------+----------------+----+-----+-------------+------+\n|  1|   NATHANIEL FORD|GENERAL MANAGER-M...|167411.18|        0.0|400184.25|    NULL|567595.43|       567595.43|2011| NULL|San Francisco|  NULL|\n|  2|     GARY JIMENEZ|CAPTAIN III (POLI...|155966.02|  245131.88|137811.38|    NULL|538909.28|       538909.28|2011| NULL|San Francisco|  NULL|\n|  3|   ALBERT PARDINI|CAPTAIN III (POLI...|212739.13|  106088.18|  16452.6|    NULL|335279.91|       335279.91|2011| NULL|San Francisco|  NULL|\n|  4|CHRISTOPHER CHONG|WIRE ROPE CABLE M...|  77916.0|   56120.71| 198306.9|    NULL|332343.61|       332343.61|2011| NULL|San Francisco|  NULL|\n|  5|  PATRICK GARDNER|DEPUTY CHIEF OF D...| 134401.6|     9737.0|182234.59|    NULL|326373.19|       326373.19|2011| NULL|San Francisco|  NULL|\n+---+-----------------+--------------------+---------+-----------+---------+--------+---------+----------------+----+-----+-------------+------+\nonly showing top 5 rows\n\n"
        }
      ],
      "execution_count": 50,
      "metadata": {
        "id": "3PdXOJLpaDpK",
        "colab": {
          "base_uri": "https://localhost:8080/"
        },
        "outputId": "94249a8b-3044-488b-c2a4-eb9b6f16b1fb"
      }
    },
    {
      "cell_type": "markdown",
      "source": [
        "## 3. Dạng dữ liệu của từng cột là gì?\n"
      ],
      "metadata": {
        "id": "BWFZ2okhdJeK"
      }
    },
    {
      "cell_type": "code",
      "source": [
        "df.printSchema()"
      ],
      "outputs": [
        {
          "output_type": "stream",
          "name": "stdout",
          "text": "root\n |-- Id: integer (nullable = true)\n |-- EmployeeName: string (nullable = true)\n |-- JobTitle: string (nullable = true)\n |-- BasePay: double (nullable = true)\n |-- OvertimePay: double (nullable = true)\n |-- OtherPay: double (nullable = true)\n |-- Benefits: double (nullable = true)\n |-- TotalPay: double (nullable = true)\n |-- TotalPayBenefits: double (nullable = true)\n |-- Year: integer (nullable = true)\n |-- Notes: string (nullable = true)\n |-- Agency: string (nullable = true)\n |-- Status: double (nullable = true)\n\n"
        }
      ],
      "execution_count": 51,
      "metadata": {
        "id": "M9IMe0jAdHJ8",
        "colab": {
          "base_uri": "https://localhost:8080/"
        },
        "outputId": "6aeb334f-ea1e-48bb-a38e-a771d445f01b"
      }
    },
    {
      "cell_type": "markdown",
      "source": [
        "## 4. Tổng quát thống kê của dữ liệu như thế nào?\n"
      ],
      "metadata": {
        "id": "2vUinMCRdPBk"
      }
    },
    {
      "cell_type": "code",
      "source": [
        "df.describe().show()"
      ],
      "outputs": [
        {
          "output_type": "stream",
          "name": "stdout",
          "text": "+-------+------------------+----------------+-------------+-----------------+------------------+------------------+------------------+------------------+-----------------+------------------+-----+-------------+------+\n|summary|                Id|    EmployeeName|     JobTitle|          BasePay|       OvertimePay|          OtherPay|          Benefits|          TotalPay| TotalPayBenefits|              Year|Notes|       Agency|Status|\n+-------+------------------+----------------+-------------+-----------------+------------------+------------------+------------------+------------------+-----------------+------------------+-----+-------------+------+\n|  count|            148654|          148654|       148654|           148045|            148650|            148650|            112491|            148654|           148654|            148654|    0|       148654| 38119|\n|   mean|           74327.5|            NULL|         NULL|66325.44884049696| 5066.059886444657|3648.7672968045863| 25007.89315082973| 74768.32197169794|93692.55481056731|2012.5226431848453| NULL|         NULL|   NaN|\n| stddev|42912.857795381875|            NULL|         NULL|42764.63549525901|11454.380558670273| 8056.601865587457|15402.215857867111|50517.005273950046|62793.53348323758|1.1175375853897085| NULL|         NULL|   NaN|\n|    min|                 1|A BERNARD FATOOH|ACCOUNT CLERK|          -166.01|             -0.01|          -7058.59|            -33.89|           -618.13|          -618.13|              2011| NULL|San Francisco|   NaN|\n|    max|            148654|      Zuri Jones|  ZOO CURATOR|        319275.01|         245131.88|         400184.25|          96570.66|         567595.43|        567595.43|              2014| NULL|San Francisco|   NaN|\n+-------+------------------+----------------+-------------+-----------------+------------------+------------------+------------------+------------------+-----------------+------------------+-----+-------------+------+\n\n"
        }
      ],
      "execution_count": 52,
      "metadata": {
        "id": "MquHVUPxddNo",
        "colab": {
          "base_uri": "https://localhost:8080/"
        },
        "outputId": "c59947ff-b9bb-42de-af07-b4e60ab871d5"
      }
    },
    {
      "cell_type": "markdown",
      "source": [
        "## 5. Tên của người được trả cao nhất (bao gồm benefits) là gì?\n"
      ],
      "metadata": {
        "id": "V89jBkijdX26"
      }
    },
    {
      "cell_type": "code",
      "source": [
        "df = df.orderBy(['TotalPayBenefits'], ascending = [False])"
      ],
      "outputs": [],
      "execution_count": 54,
      "metadata": {
        "id": "nV6JIyGO_yAt"
      }
    },
    {
      "cell_type": "code",
      "source": [
        "df.select(\"EmployeeName\").first()"
      ],
      "outputs": [
        {
          "output_type": "execute_result",
          "execution_count": 55,
          "data": {
            "text/plain": "Row(EmployeeName='NATHANIEL FORD')"
          },
          "metadata": {}
        }
      ],
      "execution_count": 55,
      "metadata": {
        "colab": {
          "base_uri": "https://localhost:8080/"
        },
        "id": "JASIHs29ROaI",
        "outputId": "0f360780-4132-4cb7-c587-0874847d9f73"
      }
    },
    {
      "cell_type": "markdown",
      "source": [
        "## 6. Tên vị trí công việc (Job Title) của người đó là gì?\n"
      ],
      "metadata": {
        "id": "NXne6NmWdb_T"
      }
    },
    {
      "cell_type": "code",
      "source": [
        "df.select('JobTitle').first()"
      ],
      "outputs": [
        {
          "output_type": "execute_result",
          "execution_count": 56,
          "data": {
            "text/plain": "Row(JobTitle='GENERAL MANAGER-METROPOLITAN TRANSIT AUTHORITY')"
          },
          "metadata": {}
        }
      ],
      "execution_count": 56,
      "metadata": {
        "id": "J9hw_srPsuij",
        "colab": {
          "base_uri": "https://localhost:8080/"
        },
        "outputId": "90fef4c1-fdf8-4f25-b106-b158811fdb8b"
      }
    },
    {
      "cell_type": "markdown",
      "source": [
        "## 7. Tên của người được trả thấp nhất (bao gồm benefits) là gì?"
      ],
      "metadata": {
        "id": "N2IXDmdxdg-M"
      }
    },
    {
      "cell_type": "code",
      "source": [
        "df = df.orderBy(['TotalPayBenefits'], ascending = [True])"
      ],
      "outputs": [],
      "execution_count": 60,
      "metadata": {
        "id": "K0eoX8D2s7b5"
      }
    },
    {
      "cell_type": "code",
      "source": [
        "df.select('EmployeeName').show(1)"
      ],
      "outputs": [
        {
          "output_type": "stream",
          "name": "stdout",
          "text": "+------------+\n|EmployeeName|\n+------------+\n|   Joe Lopez|\n+------------+\nonly showing top 1 row\n\n"
        }
      ],
      "execution_count": 62,
      "metadata": {
        "colab": {
          "base_uri": "https://localhost:8080/"
        },
        "id": "fibmuB7_B_Gv",
        "outputId": "37f97e05-ad54-4f51-c196-5406feadc7fa"
      }
    },
    {
      "cell_type": "markdown",
      "source": [
        "## 8. Lương của người được trả thấp nhất (bao gồm benefits) là bao nhiêu?\n",
        "**In cả dòng dữ liệu về người đó**"
      ],
      "metadata": {
        "id": "R_zEDexRdlxr"
      }
    },
    {
      "cell_type": "code",
      "source": [
        "df.select('TotalPayBenefits').show(1)"
      ],
      "outputs": [
        {
          "output_type": "stream",
          "name": "stdout",
          "text": "+----------------+\n|TotalPayBenefits|\n+----------------+\n|         -618.13|\n+----------------+\nonly showing top 1 row\n\n"
        }
      ],
      "execution_count": 63,
      "metadata": {
        "id": "7m_JNG9VuDLr",
        "colab": {
          "base_uri": "https://localhost:8080/"
        },
        "outputId": "c65b1cee-075c-4f38-b058-35cbe9398ce4"
      }
    },
    {
      "cell_type": "markdown",
      "source": [
        "## 9. In tất cả các dòng của các nhân viên có cùng Job Title với Joe Lopez."
      ],
      "metadata": {
        "id": "_r0JUbd4L64w"
      }
    },
    {
      "cell_type": "code",
      "source": [
        "df.filter(df[\"JobTitle\"] == df.filter(df[\"EmployeeName\"] == \"Joe Lopez\").select(\"JobTitle\").first()[\"JobTitle\"]).show()\n"
      ],
      "outputs": [
        {
          "output_type": "stream",
          "name": "stdout",
          "text": "+------+--------------------+--------------------+--------+-----------+--------+--------+--------+----------------+----+-----+-------------+------+\n|    Id|        EmployeeName|            JobTitle| BasePay|OvertimePay|OtherPay|Benefits|TotalPay|TotalPayBenefits|Year|Notes|       Agency|Status|\n+------+--------------------+--------------------+--------+-----------+--------+--------+--------+----------------+----+-----+-------------+------+\n|148654|           Joe Lopez|Counselor, Log Ca...|     0.0|        0.0| -618.13|     0.0| -618.13|         -618.13|2014| NULL|San Francisco|   NaN|\n|110356|     Anson Kevin  Wu|Counselor, Log Ca...|   221.5|        0.0|   13.29|     0.0|  234.79|          234.79|2013| NULL|San Francisco|  NULL|\n|110071|          Joe  Lopez|Counselor, Log Ca...|    NULL|        0.0|  618.13|     0.0|  618.13|          618.13|2013| NULL|San Francisco|  NULL|\n|109739|Savannah E Sarkis...|Counselor, Log Ca...|   443.0|      664.5|     0.0|   11.08|  1107.5|         1118.58|2013| NULL|San Francisco|  NULL|\n|147115|      Darlene M Gray|Counselor, Log Ca...| 2330.98|        0.0|   62.81|     0.0| 2393.79|         2393.79|2014| NULL|San Francisco|   NaN|\n|143584|     Winston C Louie|Counselor, Log Ca...|10487.12|        0.0| 1021.26|   115.1|11508.38|        11623.48|2014| NULL|San Francisco|   NaN|\n|143558|    Saman Parnianfar|Counselor, Log Ca...|10989.61|     349.01|  386.64|     0.0|11725.26|        11725.26|2014| NULL|San Francisco|   NaN|\n|143384|   Ralph L Mcgill Jr|Counselor, Log Ca...|  5527.2|    6879.09|   62.77|     0.0|12469.06|        12469.06|2014| NULL|San Francisco|   NaN|\n|105135|     Winston C Louie|Counselor, Log Ca...|11571.85|      697.8| 1028.73|  133.01|13298.38|        13431.39|2013| NULL|San Francisco|  NULL|\n| 68134|     Ralph McGill Jr|Counselor, Log Ca...|  7355.0|    5834.87|  284.98|  230.54|13474.85|        13705.39|2012| NULL|San Francisco|  NULL|\n| 68012|       Winston Louie|Counselor, Log Ca...|12011.89|     337.08|  858.78| 1096.84|13207.75|        14304.59|2012| NULL|San Francisco|  NULL|\n|104050|    Alex G Escalante|Counselor, Log Ca...|16616.07|    2397.38|  684.73|     0.0|19698.18|        19698.18|2013| NULL|San Francisco|  NULL|\n|103815|   Saman  Parnianfar|Counselor, Log Ca...| 19240.4|    1415.24|  632.24|     0.0|21287.88|        21287.88|2013| NULL|San Francisco|  NULL|\n|103422|   Ralph L McGill Jr|Counselor, Log Ca...| 11397.4|   12516.69|  223.35|     0.0|24137.44|        24137.44|2013| NULL|San Francisco|  NULL|\n|141162|       Joe Berkowitz|Counselor, Log Ca...|22419.01|        0.0| 2195.88|     0.0|24614.89|        24614.89|2014| NULL|San Francisco|   NaN|\n| 66134|       Tarik Winston|Counselor, Log Ca...|19388.28|    1898.48|  1686.5| 2382.22|22973.26|        25355.48|2012| NULL|San Francisco|  NULL|\n| 65895|       Gary Thompson|Counselor, Log Ca...|     0.0|     465.56|22755.41| 4144.42|23220.97|        27365.39|2012| NULL|San Francisco|  NULL|\n| 65830|          Steven Lin|Counselor, Log Ca...|23397.22|     244.07| 2235.69| 2053.56|25876.98|        27930.54|2012| NULL|San Francisco|  NULL|\n| 65811|    Saman Parnianfar|Counselor, Log Ca...|23238.95|    1835.92|   807.1| 2189.93|25881.97|         28071.9|2012| NULL|San Francisco|  NULL|\n| 65754|      Alex Escalante|Counselor, Log Ca...|18683.67|    6654.11| 1179.19| 2102.71|26516.97|        28619.68|2012| NULL|San Francisco|  NULL|\n+------+--------------------+--------------------+--------+-----------+--------+--------+--------+----------------+----+-----+-------------+------+\nonly showing top 20 rows\n\n"
        }
      ],
      "execution_count": 67,
      "metadata": {
        "id": "AWPPHRIxKD_O",
        "colab": {
          "base_uri": "https://localhost:8080/"
        },
        "outputId": "605be01c-3c2e-4cfb-a39d-879c4a022117"
      }
    },
    {
      "cell_type": "markdown",
      "source": [
        "## 10. Lọc ra tất cả những người có TotalPay cao hơn TotalPay trung bình."
      ],
      "metadata": {
        "id": "fFi9iRI7vYkL"
      }
    },
    {
      "cell_type": "code",
      "source": [
        "df.filter(df[\"TotalPay\"] > df.selectExpr(\"avg(TotalPay) over ()\").collect()[0][0]).show()"
      ],
      "outputs": [
        {
          "output_type": "stream",
          "name": "stdout",
          "text": "+-----+--------------------+--------------------+--------+-----------+--------+--------+--------+----------------+----+-----+-------------+------+\n|   Id|        EmployeeName|            JobTitle| BasePay|OvertimePay|OtherPay|Benefits|TotalPay|TotalPayBenefits|Year|Notes|       Agency|Status|\n+-----+--------------------+--------------------+--------+-----------+--------+--------+--------+----------------+----+-----+-------------+------+\n|15847|       MONICA JUAREZ|PUBLIC SAFETY COM...|63224.98|    2049.63| 9494.58|    NULL|74769.19|        74769.19|2011| NULL|San Francisco|  NULL|\n|15846|       LILY LANGLOIS|          PLANNER II|74777.03|        0.0|     0.0|    NULL|74777.03|        74777.03|2011| NULL|San Francisco|  NULL|\n|15845|       RAFAEL GARCIA|    TRANSIT OPERATOR|64371.62|    10290.1|   115.4|    NULL|74777.12|        74777.12|2011| NULL|San Francisco|  NULL|\n|15844|     YEGGER WILLIAMS|    TRANSIT OPERATOR|58255.35|   16487.47|   34.62|    NULL|74777.44|        74777.44|2011| NULL|San Francisco|  NULL|\n|15843|      GERALD MAXWELL|             PAINTER| 70987.8|    2613.54|  1176.5|    NULL|74777.84|        74777.84|2011| NULL|San Francisco|  NULL|\n|15842|     ROBERTO BARROGA|    TRANSIT OPERATOR| 65299.4|    7374.24| 2109.69|    NULL|74783.33|        74783.33|2011| NULL|San Francisco|  NULL|\n|15841|         MARK LOVETT|CUSTOMER SERVICE ...|72595.91|    1679.15|  509.19|    NULL|74784.25|        74784.25|2011| NULL|San Francisco|  NULL|\n|15840|        THOMAS TAVIS|        LIBRARIAN II|54511.23|        0.0|20275.61|    NULL|74786.84|        74786.84|2011| NULL|San Francisco|  NULL|\n|15839|   MERCEDES GONZALES|LICENSED VOCATION...| 62013.0|   12141.88|   634.0|    NULL|74788.88|        74788.88|2011| NULL|San Francisco|  NULL|\n|15838|         JOHN TORRES|      DEPUTY SHERIFF|71288.02|    3506.67|     0.0|    NULL|74794.69|        74794.69|2011| NULL|San Francisco|  NULL|\n|15837|      GEORGE COUVSON|SENIOR TRANSIT TR...|66289.24|     4967.4| 3539.71|    NULL|74796.35|        74796.35|2011| NULL|San Francisco|  NULL|\n|15836|          DAVID WONG|    TRANSIT OPERATOR|65564.82|    8468.03|   763.7|    NULL|74796.55|        74796.55|2011| NULL|San Francisco|  NULL|\n|15835|      JOVEN SEMBRANA|AIRPORT POLICE SE...|58764.91|   10768.12| 5268.56|    NULL|74801.59|        74801.59|2011| NULL|San Francisco|  NULL|\n|15834|       MICHAEL ZAUGG| ESTATE INVESTIGATOR|74816.28|        0.0|     0.0|    NULL|74816.28|        74816.28|2011| NULL|San Francisco|  NULL|\n|15833|LOTA TORRES-CLEMENTE|  PROGRAM SPECIALIST|73164.02|        0.0|  1659.0|    NULL|74823.02|        74823.02|2011| NULL|San Francisco|  NULL|\n|15832|       SEAN PLAISTED| STATIONARY ENGINEER| 72410.0|    2236.71|  176.93|    NULL|74823.64|        74823.64|2011| NULL|San Francisco|  NULL|\n|15831|    JEMAR VILLASENOR|    TRANSIT OPERATOR|65391.51|    7048.39| 2386.33|    NULL|74826.23|        74826.23|2011| NULL|San Francisco|  NULL|\n|15830|     BRIAN SPIGELMAN|TREE TOPPER SUPER...|44840.48|   12916.32|17073.13|    NULL|74829.93|        74829.93|2011| NULL|San Francisco|  NULL|\n|15829|      FREDERICK CARR|AIRPORT POLICE SE...|58878.44|   10683.18| 5268.81|    NULL|74830.43|        74830.43|2011| NULL|San Francisco|  NULL|\n|15828|      VISHAL TRIVEDI|          PLANNER II|74833.02|        0.0|     0.0|    NULL|74833.02|        74833.02|2011| NULL|San Francisco|  NULL|\n+-----+--------------------+--------------------+--------+-----------+--------+--------+--------+----------------+----+-----+-------------+------+\nonly showing top 20 rows\n\n"
        }
      ],
      "execution_count": 69,
      "metadata": {
        "colab": {
          "base_uri": "https://localhost:8080/"
        },
        "id": "nmjDuX89VYMB",
        "outputId": "d22e5a67-9e12-435b-94ee-65c4d9d6d35f"
      }
    },
    {
      "cell_type": "code",
      "source": [],
      "outputs": [],
      "execution_count": null,
      "metadata": {
        "id": "BjlRtMcZVxPf"
      }
    }
  ],
  "metadata": {
    "colab": {
      "provenance": [],
      "collapsed_sections": [
        "AKjZqnB2c0RS",
        "aiCWG450c-kj",
        "8IZ2HMnUdDGy",
        "q6LOKU8-dGNJ",
        "BWFZ2okhdJeK",
        "2vUinMCRdPBk",
        "V89jBkijdX26",
        "NXne6NmWdb_T",
        "N2IXDmdxdg-M",
        "R_zEDexRdlxr",
        "_r0JUbd4L64w",
        "6ZUVdWmZtJDV",
        "1JGOxqOatdHf",
        "6oD9kU-huZeK",
        "fFi9iRI7vYkL",
        "PFU23nXMyHnY",
        "5TJyJIMyIgoL",
        "1VCWENADynlz",
        "NatF9mqA1kU_",
        "Tyhb9Yjvl-pj"
      ]
    },
    "kernelspec": {
      "name": "python3",
      "display_name": "Python 3"
    },
    "language_info": {
      "name": "python"
    },
    "nteract": {
      "version": "nteract-front-end@1.0.0"
    }
  },
  "nbformat": 4,
  "nbformat_minor": 0
}